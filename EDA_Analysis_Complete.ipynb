{
 "cells": [
  {
   "cell_type": "markdown",
   "id": "5c9995fe",
   "metadata": {},
   "source": [
    "# Healthcare Dataset - EDA and Preprocessing Analysis\n",
    "\n",
    "## Proje Amacı\n",
    "Bu notebook'ta `Talent_Academy_Case_DT_2025.xlsx` dosyasındaki sağlık verisi üzerinde kapsamlı EDA (Exploratory Data Analysis) ve veri ön işleme yapacağız.\n",
    "\n",
    "**Hedef Değişken:** `TedaviSuresi` (Treatment Duration)\n",
    "\n",
    "**Amacımız:** Modeli eğitimine hazır hale getirmek (model eğitmek değil)\n",
    "\n",
    "## Adımlar:\n",
    "1. Veri analizi (numeric ve categorical veri tespiti)\n",
    "2. Korelasyon haritası\n",
    "3. Gereksiz veri tespiti\n",
    "4. Boş veri doldurma (ortalama değerlerle)\n",
    "5. Categorical veri encoding\n",
    "6. Veri karıştırma ve train-test split (75-25)"
   ]
  },
  {
   "cell_type": "code",
   "execution_count": 50,
   "id": "627ccf0f",
   "metadata": {},
   "outputs": [
    {
     "name": "stdout",
     "output_type": "stream",
     "text": [
      "Requirement already satisfied: matplotlib in /home/ozgurcetin/miniforge3/envs/llm/lib/python3.13/site-packages (3.10.6)\n",
      "Requirement already satisfied: contourpy>=1.0.1 in /home/ozgurcetin/miniforge3/envs/llm/lib/python3.13/site-packages (from matplotlib) (1.3.3)\n",
      "Requirement already satisfied: cycler>=0.10 in /home/ozgurcetin/miniforge3/envs/llm/lib/python3.13/site-packages (from matplotlib) (0.12.1)\n",
      "Requirement already satisfied: fonttools>=4.22.0 in /home/ozgurcetin/miniforge3/envs/llm/lib/python3.13/site-packages (from matplotlib) (4.59.2)\n",
      "Requirement already satisfied: kiwisolver>=1.3.1 in /home/ozgurcetin/miniforge3/envs/llm/lib/python3.13/site-packages (from matplotlib) (1.4.9)\n",
      "Requirement already satisfied: numpy>=1.23 in /home/ozgurcetin/miniforge3/envs/llm/lib/python3.13/site-packages (from matplotlib) (2.3.2)\n",
      "Requirement already satisfied: packaging>=20.0 in /home/ozgurcetin/miniforge3/envs/llm/lib/python3.13/site-packages (from matplotlib) (25.0)\n",
      "Requirement already satisfied: pillow>=8 in /home/ozgurcetin/miniforge3/envs/llm/lib/python3.13/site-packages (from matplotlib) (11.3.0)\n",
      "Requirement already satisfied: pyparsing>=2.3.1 in /home/ozgurcetin/miniforge3/envs/llm/lib/python3.13/site-packages (from matplotlib) (3.2.3)\n",
      "Requirement already satisfied: python-dateutil>=2.7 in /home/ozgurcetin/miniforge3/envs/llm/lib/python3.13/site-packages (from matplotlib) (2.9.0.post0)\n",
      "Requirement already satisfied: six>=1.5 in /home/ozgurcetin/miniforge3/envs/llm/lib/python3.13/site-packages (from python-dateutil>=2.7->matplotlib) (1.17.0)\n",
      "Note: you may need to restart the kernel to use updated packages.\n"
     ]
    }
   ],
   "source": [
    "%pip install matplotlib"
   ]
  },
  {
   "cell_type": "markdown",
   "id": "89c89a6d",
   "metadata": {},
   "source": [
    "## 1. Kütüphanelerin İçe Aktarılması"
   ]
  },
  {
   "cell_type": "code",
   "execution_count": 51,
   "id": "6209494b",
   "metadata": {},
   "outputs": [
    {
     "name": "stdout",
     "output_type": "stream",
     "text": [
      "Kütüphaneler başarıyla yüklendi!\n"
     ]
    }
   ],
   "source": [
    "# Gerekli kütüphaneleri içe aktarma\n",
    "import numpy as np\n",
    "import pandas as pd\n",
    "\n",
    "# Matplotlib ve seaborn'u otomatik yükle\n",
    "try:\n",
    "    import matplotlib.pyplot as plt\n",
    "    import seaborn as sns\n",
    "except ImportError:\n",
    "    !pip install matplotlib seaborn\n",
    "    import matplotlib.pyplot as plt\n",
    "    import seaborn as sns\n",
    "\n",
    "from sklearn.model_selection import train_test_split\n",
    "from sklearn.preprocessing import LabelEncoder, StandardScaler, OneHotEncoder\n",
    "from sklearn.compose import ColumnTransformer\n",
    "import warnings\n",
    "warnings.filterwarnings('ignore')\n",
    "\n",
    "# Görselleştirme ayarları\n",
    "plt.style.use('seaborn-v0_8')\n",
    "sns.set_palette(\"husl\")\n",
    "plt.rcParams['figure.figsize'] = (12, 8)\n",
    "plt.rcParams['font.size'] = 12\n",
    "\n",
    "print(\"Kütüphaneler başarıyla yüklendi!\")"
   ]
  },
  {
   "cell_type": "markdown",
   "id": "ed1a5494",
   "metadata": {},
   "source": [
    "## 2. Veri Yükleme ve İlk İnceleme"
   ]
  },
  {
   "cell_type": "code",
   "execution_count": 52,
   "id": "d457aacd",
   "metadata": {},
   "outputs": [
    {
     "name": "stdout",
     "output_type": "stream",
     "text": [
      "Veri başarıyla yüklendi!\n",
      "Veri boyutu: (2235, 13)\n",
      "Satır sayısı: 2235\n",
      "Sütun sayısı: 13\n"
     ]
    }
   ],
   "source": [
    "# Veriyi yükleme\n",
    "df = pd.read_excel('Talent_Academy_Case_DT_2025.xlsx')\n",
    "\n",
    "print(\"Veri başarıyla yüklendi!\")\n",
    "print(f\"Veri boyutu: {df.shape}\")\n",
    "print(f\"Satır sayısı: {df.shape[0]}\")\n",
    "print(f\"Sütun sayısı: {df.shape[1]}\")"
   ]
  },
  {
   "cell_type": "code",
   "execution_count": 53,
   "id": "50a71e58",
   "metadata": {},
   "outputs": [
    {
     "name": "stdout",
     "output_type": "stream",
     "text": [
      "Sütun Adları:\n",
      "['HastaNo', 'Yas', 'Cinsiyet', 'KanGrubu', 'Uyruk', 'KronikHastalik', 'Bolum', 'Alerji', 'Tanilar', 'TedaviAdi', 'TedaviSuresi', 'UygulamaYerleri', 'UygulamaSuresi']\n"
     ]
    }
   ],
   "source": [
    "# Sütun adlarını görüntüleme\n",
    "print(\"Sütun Adları:\")\n",
    "print(df.columns.tolist())"
   ]
  },
  {
   "cell_type": "code",
   "execution_count": 54,
   "id": "a14fe5bc",
   "metadata": {},
   "outputs": [
    {
     "name": "stdout",
     "output_type": "stream",
     "text": [
      "İlk 5 satır:\n"
     ]
    },
    {
     "data": {
      "text/html": [
       "<div>\n",
       "<style scoped>\n",
       "    .dataframe tbody tr th:only-of-type {\n",
       "        vertical-align: middle;\n",
       "    }\n",
       "\n",
       "    .dataframe tbody tr th {\n",
       "        vertical-align: top;\n",
       "    }\n",
       "\n",
       "    .dataframe thead th {\n",
       "        text-align: right;\n",
       "    }\n",
       "</style>\n",
       "<table border=\"1\" class=\"dataframe\">\n",
       "  <thead>\n",
       "    <tr style=\"text-align: right;\">\n",
       "      <th></th>\n",
       "      <th>HastaNo</th>\n",
       "      <th>Yas</th>\n",
       "      <th>Cinsiyet</th>\n",
       "      <th>KanGrubu</th>\n",
       "      <th>Uyruk</th>\n",
       "      <th>KronikHastalik</th>\n",
       "      <th>Bolum</th>\n",
       "      <th>Alerji</th>\n",
       "      <th>Tanilar</th>\n",
       "      <th>TedaviAdi</th>\n",
       "      <th>TedaviSuresi</th>\n",
       "      <th>UygulamaYerleri</th>\n",
       "      <th>UygulamaSuresi</th>\n",
       "    </tr>\n",
       "  </thead>\n",
       "  <tbody>\n",
       "    <tr>\n",
       "      <th>0</th>\n",
       "      <td>145134</td>\n",
       "      <td>60</td>\n",
       "      <td>Kadın</td>\n",
       "      <td>0 Rh+</td>\n",
       "      <td>Türkiye</td>\n",
       "      <td>Becker Musküler Distrofisi, Hiportiroidizm, Ka...</td>\n",
       "      <td>Fiziksel Tıp Ve Rehabilitasyon,Solunum Merkezi</td>\n",
       "      <td>TOZ</td>\n",
       "      <td>Ayak bileği ve ayağın yüzeysel yaralanması</td>\n",
       "      <td>Ayak Bileği</td>\n",
       "      <td>5 Seans</td>\n",
       "      <td>Ayak Bileği</td>\n",
       "      <td>20 Dakika</td>\n",
       "    </tr>\n",
       "    <tr>\n",
       "      <th>1</th>\n",
       "      <td>145135</td>\n",
       "      <td>28</td>\n",
       "      <td>Erkek</td>\n",
       "      <td>0 Rh+</td>\n",
       "      <td>Türkiye</td>\n",
       "      <td>Duchenne Musküler Distrofisi, Myastenia gravis...</td>\n",
       "      <td>Fiziksel Tıp Ve Rehabilitasyon,Solunum Merkezi</td>\n",
       "      <td>NaN</td>\n",
       "      <td>Omuzun darbe sendromu,DORSALJİ, DİĞER, SERVİKO...</td>\n",
       "      <td>Dorsalji -Boyun+trapez+skapular</td>\n",
       "      <td>15 Seans</td>\n",
       "      <td>Boyun</td>\n",
       "      <td>20 Dakika</td>\n",
       "    </tr>\n",
       "    <tr>\n",
       "      <th>2</th>\n",
       "      <td>145135</td>\n",
       "      <td>28</td>\n",
       "      <td>Erkek</td>\n",
       "      <td>0 Rh+</td>\n",
       "      <td>Türkiye</td>\n",
       "      <td>Duchenne Musküler Distrofisi, Myastenia gravis...</td>\n",
       "      <td>Fiziksel Tıp Ve Rehabilitasyon,Solunum Merkezi</td>\n",
       "      <td>NaN</td>\n",
       "      <td>Omuzun darbe sendromu,DORSALJİ, DİĞER, SERVİKO...</td>\n",
       "      <td>Dorsalji -Boyun+trapez+skapular</td>\n",
       "      <td>15 Seans</td>\n",
       "      <td>Boyun,Sırt</td>\n",
       "      <td>20 Dakika</td>\n",
       "    </tr>\n",
       "    <tr>\n",
       "      <th>3</th>\n",
       "      <td>145135</td>\n",
       "      <td>28</td>\n",
       "      <td>Erkek</td>\n",
       "      <td>0 Rh+</td>\n",
       "      <td>Türkiye</td>\n",
       "      <td>Duchenne Musküler Distrofisi, Myastenia gravis...</td>\n",
       "      <td>Fiziksel Tıp Ve Rehabilitasyon,Solunum Merkezi</td>\n",
       "      <td>NaN</td>\n",
       "      <td>Omuzun darbe sendromu,DORSALJİ, DİĞER, SERVİKO...</td>\n",
       "      <td>Dorsalji -Boyun+trapez+skapular</td>\n",
       "      <td>15 Seans</td>\n",
       "      <td>Boyun</td>\n",
       "      <td>5 Dakika</td>\n",
       "    </tr>\n",
       "    <tr>\n",
       "      <th>4</th>\n",
       "      <td>145135</td>\n",
       "      <td>28</td>\n",
       "      <td>Erkek</td>\n",
       "      <td>0 Rh+</td>\n",
       "      <td>Türkiye</td>\n",
       "      <td>Duchenne Musküler Distrofisi, Myastenia gravis...</td>\n",
       "      <td>Fiziksel Tıp Ve Rehabilitasyon,Solunum Merkezi</td>\n",
       "      <td>NaN</td>\n",
       "      <td>Omuzun darbe sendromu,DORSALJİ, DİĞER, SERVİKO...</td>\n",
       "      <td>Dorsalji -Boyun+trapez+skapular</td>\n",
       "      <td>15 Seans</td>\n",
       "      <td>Boyun,Sırt</td>\n",
       "      <td>20 Dakika</td>\n",
       "    </tr>\n",
       "  </tbody>\n",
       "</table>\n",
       "</div>"
      ],
      "text/plain": [
       "   HastaNo  Yas Cinsiyet KanGrubu    Uyruk  \\\n",
       "0   145134   60    Kadın    0 Rh+  Türkiye   \n",
       "1   145135   28    Erkek    0 Rh+  Türkiye   \n",
       "2   145135   28    Erkek    0 Rh+  Türkiye   \n",
       "3   145135   28    Erkek    0 Rh+  Türkiye   \n",
       "4   145135   28    Erkek    0 Rh+  Türkiye   \n",
       "\n",
       "                                      KronikHastalik  \\\n",
       "0  Becker Musküler Distrofisi, Hiportiroidizm, Ka...   \n",
       "1  Duchenne Musküler Distrofisi, Myastenia gravis...   \n",
       "2  Duchenne Musküler Distrofisi, Myastenia gravis...   \n",
       "3  Duchenne Musküler Distrofisi, Myastenia gravis...   \n",
       "4  Duchenne Musküler Distrofisi, Myastenia gravis...   \n",
       "\n",
       "                                            Bolum Alerji  \\\n",
       "0  Fiziksel Tıp Ve Rehabilitasyon,Solunum Merkezi    TOZ   \n",
       "1  Fiziksel Tıp Ve Rehabilitasyon,Solunum Merkezi    NaN   \n",
       "2  Fiziksel Tıp Ve Rehabilitasyon,Solunum Merkezi    NaN   \n",
       "3  Fiziksel Tıp Ve Rehabilitasyon,Solunum Merkezi    NaN   \n",
       "4  Fiziksel Tıp Ve Rehabilitasyon,Solunum Merkezi    NaN   \n",
       "\n",
       "                                             Tanilar  \\\n",
       "0         Ayak bileği ve ayağın yüzeysel yaralanması   \n",
       "1  Omuzun darbe sendromu,DORSALJİ, DİĞER, SERVİKO...   \n",
       "2  Omuzun darbe sendromu,DORSALJİ, DİĞER, SERVİKO...   \n",
       "3  Omuzun darbe sendromu,DORSALJİ, DİĞER, SERVİKO...   \n",
       "4  Omuzun darbe sendromu,DORSALJİ, DİĞER, SERVİKO...   \n",
       "\n",
       "                         TedaviAdi TedaviSuresi UygulamaYerleri UygulamaSuresi  \n",
       "0                      Ayak Bileği      5 Seans     Ayak Bileği      20 Dakika  \n",
       "1  Dorsalji -Boyun+trapez+skapular     15 Seans           Boyun      20 Dakika  \n",
       "2  Dorsalji -Boyun+trapez+skapular     15 Seans      Boyun,Sırt      20 Dakika  \n",
       "3  Dorsalji -Boyun+trapez+skapular     15 Seans           Boyun       5 Dakika  \n",
       "4  Dorsalji -Boyun+trapez+skapular     15 Seans      Boyun,Sırt      20 Dakika  "
      ]
     },
     "execution_count": 54,
     "metadata": {},
     "output_type": "execute_result"
    }
   ],
   "source": [
    "# İlk 5 satırı görüntüleme\n",
    "print(\"İlk 5 satır:\")\n",
    "df.head()"
   ]
  },
  {
   "cell_type": "code",
   "execution_count": 55,
   "id": "a70fca96",
   "metadata": {},
   "outputs": [
    {
     "name": "stdout",
     "output_type": "stream",
     "text": [
      "Veri Hakkında Temel Bilgiler:\n",
      "<class 'pandas.core.frame.DataFrame'>\n",
      "RangeIndex: 2235 entries, 0 to 2234\n",
      "Data columns (total 13 columns):\n",
      " #   Column           Non-Null Count  Dtype \n",
      "---  ------           --------------  ----- \n",
      " 0   HastaNo          2235 non-null   int64 \n",
      " 1   Yas              2235 non-null   int64 \n",
      " 2   Cinsiyet         2066 non-null   object\n",
      " 3   KanGrubu         1560 non-null   object\n",
      " 4   Uyruk            2235 non-null   object\n",
      " 5   KronikHastalik   1624 non-null   object\n",
      " 6   Bolum            2224 non-null   object\n",
      " 7   Alerji           1291 non-null   object\n",
      " 8   Tanilar          2160 non-null   object\n",
      " 9   TedaviAdi        2235 non-null   object\n",
      " 10  TedaviSuresi     2235 non-null   object\n",
      " 11  UygulamaYerleri  2014 non-null   object\n",
      " 12  UygulamaSuresi   2235 non-null   object\n",
      "dtypes: int64(2), object(11)\n",
      "memory usage: 227.1+ KB\n"
     ]
    }
   ],
   "source": [
    "# Temel bilgiler\n",
    "print(\"Veri Hakkında Temel Bilgiler:\")\n",
    "df.info()"
   ]
  },
  {
   "cell_type": "code",
   "execution_count": 56,
   "id": "9abdf465",
   "metadata": {},
   "outputs": [
    {
     "name": "stdout",
     "output_type": "stream",
     "text": [
      "Numerik Değişkenler İçin İstatistiksel Özet:\n"
     ]
    },
    {
     "data": {
      "text/html": [
       "<div>\n",
       "<style scoped>\n",
       "    .dataframe tbody tr th:only-of-type {\n",
       "        vertical-align: middle;\n",
       "    }\n",
       "\n",
       "    .dataframe tbody tr th {\n",
       "        vertical-align: top;\n",
       "    }\n",
       "\n",
       "    .dataframe thead th {\n",
       "        text-align: right;\n",
       "    }\n",
       "</style>\n",
       "<table border=\"1\" class=\"dataframe\">\n",
       "  <thead>\n",
       "    <tr style=\"text-align: right;\">\n",
       "      <th></th>\n",
       "      <th>HastaNo</th>\n",
       "      <th>Yas</th>\n",
       "    </tr>\n",
       "  </thead>\n",
       "  <tbody>\n",
       "    <tr>\n",
       "      <th>count</th>\n",
       "      <td>2235.000000</td>\n",
       "      <td>2235.000000</td>\n",
       "    </tr>\n",
       "    <tr>\n",
       "      <th>mean</th>\n",
       "      <td>145333.100224</td>\n",
       "      <td>47.327069</td>\n",
       "    </tr>\n",
       "    <tr>\n",
       "      <th>std</th>\n",
       "      <td>115.214248</td>\n",
       "      <td>15.208634</td>\n",
       "    </tr>\n",
       "    <tr>\n",
       "      <th>min</th>\n",
       "      <td>145134.000000</td>\n",
       "      <td>2.000000</td>\n",
       "    </tr>\n",
       "    <tr>\n",
       "      <th>25%</th>\n",
       "      <td>145235.000000</td>\n",
       "      <td>38.000000</td>\n",
       "    </tr>\n",
       "    <tr>\n",
       "      <th>50%</th>\n",
       "      <td>145331.000000</td>\n",
       "      <td>46.000000</td>\n",
       "    </tr>\n",
       "    <tr>\n",
       "      <th>75%</th>\n",
       "      <td>145432.000000</td>\n",
       "      <td>56.000000</td>\n",
       "    </tr>\n",
       "    <tr>\n",
       "      <th>max</th>\n",
       "      <td>145537.000000</td>\n",
       "      <td>92.000000</td>\n",
       "    </tr>\n",
       "  </tbody>\n",
       "</table>\n",
       "</div>"
      ],
      "text/plain": [
       "             HastaNo          Yas\n",
       "count    2235.000000  2235.000000\n",
       "mean   145333.100224    47.327069\n",
       "std       115.214248    15.208634\n",
       "min    145134.000000     2.000000\n",
       "25%    145235.000000    38.000000\n",
       "50%    145331.000000    46.000000\n",
       "75%    145432.000000    56.000000\n",
       "max    145537.000000    92.000000"
      ]
     },
     "execution_count": 56,
     "metadata": {},
     "output_type": "execute_result"
    }
   ],
   "source": [
    "# İstatistiksel özet\n",
    "print(\"Numerik Değişkenler İçin İstatistiksel Özet:\")\n",
    "df.describe()"
   ]
  },
  {
   "cell_type": "markdown",
   "id": "9fc309a9",
   "metadata": {},
   "source": [
    "## 4. Eksik Veri Analizi\n"
   ]
  },
  {
   "cell_type": "code",
   "execution_count": 57,
   "id": "bf709014",
   "metadata": {},
   "outputs": [
    {
     "name": "stdout",
     "output_type": "stream",
     "text": [
      "Eksik Veri Analizi:\n"
     ]
    },
    {
     "data": {
      "text/html": [
       "<div>\n",
       "<style scoped>\n",
       "    .dataframe tbody tr th:only-of-type {\n",
       "        vertical-align: middle;\n",
       "    }\n",
       "\n",
       "    .dataframe tbody tr th {\n",
       "        vertical-align: top;\n",
       "    }\n",
       "\n",
       "    .dataframe thead th {\n",
       "        text-align: right;\n",
       "    }\n",
       "</style>\n",
       "<table border=\"1\" class=\"dataframe\">\n",
       "  <thead>\n",
       "    <tr style=\"text-align: right;\">\n",
       "      <th></th>\n",
       "      <th>Sütun</th>\n",
       "      <th>Eksik_Veri_Sayısı</th>\n",
       "      <th>Eksik_Veri_Yüzdesi</th>\n",
       "    </tr>\n",
       "  </thead>\n",
       "  <tbody>\n",
       "    <tr>\n",
       "      <th>7</th>\n",
       "      <td>Alerji</td>\n",
       "      <td>944</td>\n",
       "      <td>42.237136</td>\n",
       "    </tr>\n",
       "    <tr>\n",
       "      <th>3</th>\n",
       "      <td>KanGrubu</td>\n",
       "      <td>675</td>\n",
       "      <td>30.201342</td>\n",
       "    </tr>\n",
       "    <tr>\n",
       "      <th>5</th>\n",
       "      <td>KronikHastalik</td>\n",
       "      <td>611</td>\n",
       "      <td>27.337808</td>\n",
       "    </tr>\n",
       "    <tr>\n",
       "      <th>11</th>\n",
       "      <td>UygulamaYerleri</td>\n",
       "      <td>221</td>\n",
       "      <td>9.888143</td>\n",
       "    </tr>\n",
       "    <tr>\n",
       "      <th>2</th>\n",
       "      <td>Cinsiyet</td>\n",
       "      <td>169</td>\n",
       "      <td>7.561521</td>\n",
       "    </tr>\n",
       "    <tr>\n",
       "      <th>8</th>\n",
       "      <td>Tanilar</td>\n",
       "      <td>75</td>\n",
       "      <td>3.355705</td>\n",
       "    </tr>\n",
       "    <tr>\n",
       "      <th>6</th>\n",
       "      <td>Bolum</td>\n",
       "      <td>11</td>\n",
       "      <td>0.492170</td>\n",
       "    </tr>\n",
       "  </tbody>\n",
       "</table>\n",
       "</div>"
      ],
      "text/plain": [
       "              Sütun  Eksik_Veri_Sayısı  Eksik_Veri_Yüzdesi\n",
       "7            Alerji                944           42.237136\n",
       "3          KanGrubu                675           30.201342\n",
       "5    KronikHastalik                611           27.337808\n",
       "11  UygulamaYerleri                221            9.888143\n",
       "2          Cinsiyet                169            7.561521\n",
       "8           Tanilar                 75            3.355705\n",
       "6             Bolum                 11            0.492170"
      ]
     },
     "metadata": {},
     "output_type": "display_data"
    },
    {
     "name": "stdout",
     "output_type": "stream",
     "text": [
      "\n",
      "Toplam eksik veri sayısı: 2706\n"
     ]
    }
   ],
   "source": [
    "# Eksik veri analizi\n",
    "missing_data = df.isnull().sum()\n",
    "missing_percentage = (df.isnull().sum() / len(df)) * 100\n",
    "\n",
    "missing_df = pd.DataFrame({\n",
    "    'Sütun': df.columns,\n",
    "    'Eksik_Veri_Sayısı': missing_data.values,\n",
    "    'Eksik_Veri_Yüzdesi': missing_percentage.values\n",
    "})\n",
    "\n",
    "missing_df = missing_df[missing_df['Eksik_Veri_Sayısı'] > 0].sort_values('Eksik_Veri_Sayısı', ascending=False)\n",
    "\n",
    "print('Eksik Veri Analizi:')\n",
    "if len(missing_df) > 0:\n",
    "    display(missing_df)\n",
    "else:\n",
    "    print('Hiç eksik veri bulunmamaktadır!')\n",
    "\n",
    "print(f'\\nToplam eksik veri sayısı: {df.isnull().sum().sum()}')"
   ]
  },
  {
   "cell_type": "code",
   "execution_count": 58,
   "id": "dd1f32b4",
   "metadata": {},
   "outputs": [
    {
     "data": {
      "image/png": "[encoded data removed]",
      "text/plain": [
       "<Figure size 1200x800 with 2 Axes>"
      ]
     },
     "metadata": {},
     "output_type": "display_data"
    }
   ],
   "source": [
    "# Eksik veri görselleştirmesi\n",
    "if df.isnull().sum().sum() > 0:\n",
    "    plt.figure(figsize=(12, 8))\n",
    "    sns.heatmap(df.isnull(), yticklabels=False, cbar=True, cmap='viridis')\n",
    "    plt.title('Eksik Veri Haritası')\n",
    "    plt.tight_layout()\n",
    "    plt.show()\n",
    "else:\n",
    "    print('Eksik veri olmadığı için heatmap çizilmedi.')"
   ]
  },
  {
   "cell_type": "code",
   "execution_count": 59,
   "id": "7386f47a",
   "metadata": {},
   "outputs": [
    {
     "name": "stdout",
     "output_type": "stream",
     "text": [
      "TedaviSuresi sütunu temizlenmeden önce:\n",
      "TedaviSuresi\n",
      "15 Seans    1670\n",
      "10 Seans     175\n",
      "20 Seans     113\n",
      "2 Seans       45\n",
      "17 Seans      36\n",
      "4 Seans       35\n",
      "16 Seans      27\n",
      "18 Seans      20\n",
      "21 Seans      20\n",
      "5 Seans       17\n",
      "Name: count, dtype: int64\n",
      "\n",
      "TedaviSuresi sütunu temizlendikten sonra:\n",
      "Veri tipi: float64\n",
      "Benzersiz değer sayısı: 23\n",
      "İlk 10 değer: [5.0, 15.0, 15.0, 15.0, 15.0, 15.0, 10.0, 10.0, 10.0, 15.0]\n"
     ]
    }
   ],
   "source": [
    "# TedaviSuresi sütununu temizle\n",
    "print(\"TedaviSuresi sütunu temizlenmeden önce:\")\n",
    "print(df['TedaviSuresi'].value_counts().head(10))\n",
    "\n",
    "# String değerleri temizle ve sayısal hale getir\n",
    "def clean_treatment_duration(value):\n",
    "    if pd.isna(value):\n",
    "        return value\n",
    "    \n",
    "    # String ise sayısal kısmı çıkar\n",
    "    if isinstance(value, str):\n",
    "        # \"5 Seans\" gibi değerlerden sadece sayıyı al\n",
    "        import re\n",
    "        numbers = re.findall(r'\\d+', str(value))\n",
    "        if numbers:\n",
    "            return float(numbers[0])  # İlk sayıyı al\n",
    "        else:\n",
    "            return np.nan\n",
    "    \n",
    "    return float(value)\n",
    "\n",
    "# Temizleme işlemini uygula\n",
    "df['TedaviSuresi'] = df['TedaviSuresi'].apply(clean_treatment_duration)\n",
    "\n",
    "print(\"\\nTedaviSuresi sütunu temizlendikten sonra:\")\n",
    "print(f\"Veri tipi: {df['TedaviSuresi'].dtype}\")\n",
    "print(f\"Benzersiz değer sayısı: {df['TedaviSuresi'].nunique()}\")\n",
    "print(f\"İlk 10 değer: {df['TedaviSuresi'].head(10).tolist()}\")"
   ]
  },
  {
   "cell_type": "markdown",
   "id": "19454053",
   "metadata": {},
   "source": [
    "## 5. Hedef Değişken (TedaviSuresi) Analizi\n"
   ]
  },
  {
   "cell_type": "code",
   "execution_count": 60,
   "id": "e79ed62c",
   "metadata": {},
   "outputs": [
    {
     "name": "stdout",
     "output_type": "stream",
     "text": [
      "Hedef Değişken: TedaviSuresi\n",
      "Veri tipi: float64\n",
      "Benzersiz değer sayısı: 23\n",
      "Min değer: 1.0\n",
      "Max değer: 37.0\n",
      "Ortalama: 14.57\n",
      "Medyan: 15.00\n",
      "Standart sapma: 3.73\n"
     ]
    }
   ],
   "source": [
    "# Hedef değişken analizi\n",
    "target_col = 'TedaviSuresi'\n",
    "\n",
    "print(f'Hedef Değişken: {target_col}')\n",
    "print(f'Veri tipi: {df[target_col].dtype}')\n",
    "print(f'Benzersiz değer sayısı: {df[target_col].nunique()}')\n",
    "print(f'Min değer: {df[target_col].min()}')\n",
    "print(f'Max değer: {df[target_col].max()}')\n",
    "print(f'Ortalama: {df[target_col].mean():.2f}')\n",
    "print(f'Medyan: {df[target_col].median():.2f}')\n",
    "print(f'Standart sapma: {df[target_col].std():.2f}')"
   ]
  },
  {
   "cell_type": "code",
   "execution_count": 61,
   "id": "1b47feee",
   "metadata": {},
   "outputs": [
    {
     "data": {
      "image/png": "[encoded data removed]",
      "text/plain": [
       "<Figure size 1500x1200 with 4 Axes>"
      ]
     },
     "metadata": {},
     "output_type": "display_data"
    }
   ],
   "source": [
    "# Hedef değişken dağılımı görselleştirmesi\n",
    "fig, axes = plt.subplots(2, 2, figsize=(15, 12))\n",
    "\n",
    "# Histogram\n",
    "axes[0, 0].hist(df[target_col], bins=50, alpha=0.7, color='skyblue', edgecolor='black')\n",
    "axes[0, 0].set_title(f'{target_col} Dağılımı (Histogram)')\n",
    "axes[0, 0].set_xlabel(target_col)\n",
    "axes[0, 0].set_ylabel('Frekans')\n",
    "\n",
    "# Box plot\n",
    "axes[0, 1].boxplot(df[target_col])\n",
    "axes[0, 1].set_title(f'{target_col} Box Plot')\n",
    "axes[0, 1].set_ylabel(target_col)\n",
    "\n",
    "# Density plot\n",
    "df[target_col].plot(kind='density', ax=axes[1, 0], color='green', alpha=0.7)\n",
    "axes[1, 0].set_title(f'{target_col} Yoğunluk Dağılımı')\n",
    "axes[1, 0].set_xlabel(target_col)\n",
    "\n",
    "# Q-Q plot (normal dağılım kontrolü)\n",
    "from scipy import stats\n",
    "stats.probplot(df[target_col], dist='norm', plot=axes[1, 1])\n",
    "axes[1, 1].set_title(f'{target_col} Q-Q Plot (Normal Dağılım)')\n",
    "\n",
    "plt.tight_layout()\n",
    "plt.show()"
   ]
  },
  {
   "cell_type": "markdown",
   "id": "ee3cf861",
   "metadata": {},
   "source": [
    "## 6. Korelasyon Analizi"
   ]
  },
  {
   "cell_type": "code",
   "execution_count": 63,
   "id": "48b600b8",
   "metadata": {},
   "outputs": [
    {
     "name": "stdout",
     "output_type": "stream",
     "text": [
      "Numerik sütunlar (3): ['HastaNo', 'Yas', 'TedaviSuresi']\n",
      "Kategorik sütunlar (10): ['Cinsiyet', 'KanGrubu', 'Uyruk', 'KronikHastalik', 'Bolum', 'Alerji', 'Tanilar', 'TedaviAdi', 'UygulamaYerleri', 'UygulamaSuresi']\n"
     ]
    }
   ],
   "source": [
    "# Numerik ve kategorik sütunları belirle\n",
    "numeric_columns = []\n",
    "categorical_columns = []\n",
    "\n",
    "for col in df.columns:\n",
    "    if df[col].dtype in ['int64', 'float64']:\n",
    "        numeric_columns.append(col)\n",
    "    else:\n",
    "        categorical_columns.append(col)\n",
    "\n",
    "print(f\"Numerik sütunlar ({len(numeric_columns)}): {numeric_columns}\")\n",
    "print(f\"Kategorik sütunlar ({len(categorical_columns)}): {categorical_columns}\")"
   ]
  },
  {
   "cell_type": "code",
   "execution_count": 64,
   "id": "ed29c169",
   "metadata": {},
   "outputs": [
    {
     "name": "stdout",
     "output_type": "stream",
     "text": [
      "Korelasyon Matrisi:\n"
     ]
    },
    {
     "data": {
      "text/html": [
       "<div>\n",
       "<style scoped>\n",
       "    .dataframe tbody tr th:only-of-type {\n",
       "        vertical-align: middle;\n",
       "    }\n",
       "\n",
       "    .dataframe tbody tr th {\n",
       "        vertical-align: top;\n",
       "    }\n",
       "\n",
       "    .dataframe thead th {\n",
       "        text-align: right;\n",
       "    }\n",
       "</style>\n",
       "<table border=\"1\" class=\"dataframe\">\n",
       "  <thead>\n",
       "    <tr style=\"text-align: right;\">\n",
       "      <th></th>\n",
       "      <th>HastaNo</th>\n",
       "      <th>Yas</th>\n",
       "      <th>TedaviSuresi</th>\n",
       "    </tr>\n",
       "  </thead>\n",
       "  <tbody>\n",
       "    <tr>\n",
       "      <th>HastaNo</th>\n",
       "      <td>1.000000</td>\n",
       "      <td>-0.300964</td>\n",
       "      <td>0.051848</td>\n",
       "    </tr>\n",
       "    <tr>\n",
       "      <th>Yas</th>\n",
       "      <td>-0.300964</td>\n",
       "      <td>1.000000</td>\n",
       "      <td>-0.013252</td>\n",
       "    </tr>\n",
       "    <tr>\n",
       "      <th>TedaviSuresi</th>\n",
       "      <td>0.051848</td>\n",
       "      <td>-0.013252</td>\n",
       "      <td>1.000000</td>\n",
       "    </tr>\n",
       "  </tbody>\n",
       "</table>\n",
       "</div>"
      ],
      "text/plain": [
       "               HastaNo       Yas  TedaviSuresi\n",
       "HastaNo       1.000000 -0.300964      0.051848\n",
       "Yas          -0.300964  1.000000     -0.013252\n",
       "TedaviSuresi  0.051848 -0.013252      1.000000"
      ]
     },
     "metadata": {},
     "output_type": "display_data"
    },
    {
     "name": "stdout",
     "output_type": "stream",
     "text": [
      "\n",
      "TedaviSuresi ile diğer değişkenler arasındaki korelasyon:\n",
      "  HastaNo: 0.052\n",
      "  Yas: -0.013\n"
     ]
    }
   ],
   "source": [
    "# Korelasyon matrisi hesaplama (sadece numerik sütunlar için)\n",
    "if len(numeric_columns) > 1:\n",
    "    correlation_matrix = df[numeric_columns].corr()\n",
    "    \n",
    "    print('Korelasyon Matrisi:')\n",
    "    display(correlation_matrix)\n",
    "    \n",
    "    # Hedef değişken ile diğer değişkenler arasındaki korelasyon\n",
    "    if target_col in numeric_columns:\n",
    "        target_correlations = correlation_matrix[target_col].drop(target_col).sort_values(key=abs, ascending=False)\n",
    "        print(f'\\n{target_col} ile diğer değişkenler arasındaki korelasyon:')\n",
    "        for var, corr in target_correlations.items():\n",
    "            print(f'  {var}: {corr:.3f}')\n",
    "else:\n",
    "    print('Korelasyon analizi için yeterli numerik sütun bulunmamaktadır.')"
   ]
  },
  {
   "cell_type": "code",
   "execution_count": 65,
   "id": "d631c8cd",
   "metadata": {},
   "outputs": [
    {
     "data": {
      "image/png": "[encoded data removed]",
      "text/plain": [
       "<Figure size 1000x800 with 2 Axes>"
      ]
     },
     "metadata": {},
     "output_type": "display_data"
    },
    {
     "name": "stdout",
     "output_type": "stream",
     "text": [
      "\n",
      "Yüksek korelasyonlu değişken çifti bulunamadı.\n"
     ]
    }
   ],
   "source": [
    "# Korelasyon heatmap'i\n",
    "if len(numeric_columns) > 1:\n",
    "    plt.figure(figsize=(10, 8))\n",
    "    sns.heatmap(correlation_matrix, \n",
    "                annot=True, \n",
    "                cmap='coolwarm', \n",
    "                center=0,\n",
    "                square=True,\n",
    "                fmt='.3f')\n",
    "    plt.title('Numerik Değişkenler Korelasyon Haritası')\n",
    "    plt.tight_layout()\n",
    "    plt.show()\n",
    "    \n",
    "    # Yüksek korelasyonlu çiftleri bul\n",
    "    high_corr_pairs = []\n",
    "    for i in range(len(correlation_matrix.columns)):\n",
    "        for j in range(i+1, len(correlation_matrix.columns)):\n",
    "            corr_val = correlation_matrix.iloc[i, j]\n",
    "            if abs(corr_val) > 0.7:\n",
    "                high_corr_pairs.append((correlation_matrix.columns[i], \n",
    "                                      correlation_matrix.columns[j], \n",
    "                                      corr_val))\n",
    "    \n",
    "    if high_corr_pairs:\n",
    "        print('\\nYüksek Korelasyonlu Değişken Çiftleri (|r| > 0.7):')\n",
    "        for var1, var2, corr in high_corr_pairs:\n",
    "            print(f'  {var1} - {var2}: {corr:.3f}')\n",
    "    else:\n",
    "        print('\\nYüksek korelasyonlu değişken çifti bulunamadı.')\n",
    "else:\n",
    "    print('Korelasyon heatmap\\'i için yeterli numerik sütun bulunmamaktadır.')"
   ]
  },
  {
   "cell_type": "markdown",
   "id": "a9192a26",
   "metadata": {},
   "source": [
    "## 7. Gereksiz Veri Tespiti ve Temizleme"
   ]
  },
  {
   "cell_type": "code",
   "execution_count": 66,
   "id": "133b128c",
   "metadata": {},
   "outputs": [
    {
     "name": "stdout",
     "output_type": "stream",
     "text": [
      "Gereksiz Veri Tespiti:\n",
      "\n",
      "1. Sabit değerli sütun bulunamadı.\n",
      "\n",
      "2. ID sütunu bulunamadı.\n",
      "\n",
      "3. Yüksek kardinaliteli kategorik sütun bulunamadı.\n"
     ]
    }
   ],
   "source": [
    "# Gereksiz veri tespiti\n",
    "print('Gereksiz Veri Tespiti:')\n",
    "\n",
    "# 1. Tek değerli sütunlar (sabit sütunlar)\n",
    "constant_columns = []\n",
    "for col in df.columns:\n",
    "    if df[col].nunique() == 1:\n",
    "        constant_columns.append(col)\n",
    "\n",
    "if constant_columns:\n",
    "    print(f'\\n1. Sabit değerli sütunlar (silinebilir): {constant_columns}')\n",
    "else:\n",
    "    print('\\n1. Sabit değerli sütun bulunamadı.')\n",
    "\n",
    "# 2. ID sütunu tespiti (HastaNo gibi)\n",
    "id_columns = []\n",
    "for col in df.columns:\n",
    "    if 'id' in col.lower() or 'no' in col.lower():\n",
    "        if df[col].nunique() == len(df):  # Her satır için farklı değer\n",
    "            id_columns.append(col)\n",
    "\n",
    "if id_columns:\n",
    "    print(f'\\n2. ID sütunları (modelleme için gereksiz olabilir): {id_columns}')\n",
    "else:\n",
    "    print('\\n2. ID sütunu bulunamadı.')\n",
    "\n",
    "# 3. Çok fazla benzersiz değeri olan kategorik sütunlar\n",
    "high_cardinality_columns = []\n",
    "for col in categorical_columns:\n",
    "    unique_ratio = df[col].nunique() / len(df)\n",
    "    if unique_ratio > 0.5:  # Verilerin %50'sinden fazlası benzersiz\n",
    "        high_cardinality_columns.append((col, df[col].nunique(), unique_ratio))\n",
    "\n",
    "if high_cardinality_columns:\n",
    "    print('\\n3. Yüksek kardinaliteli kategorik sütunlar:')\n",
    "    for col, unique_count, ratio in high_cardinality_columns:\n",
    "        print(f'  {col}: {unique_count} benzersiz değer (%{ratio*100:.1f})')\n",
    "else:\n",
    "    print('\\n3. Yüksek kardinaliteli kategorik sütun bulunamadı.')"
   ]
  },
  {
   "cell_type": "markdown",
   "id": "95cfd685",
   "metadata": {},
   "source": [
    "## 8. Eksik Veri Doldurma (Ortalama Değerlerle)"
   ]
  },
  {
   "cell_type": "code",
   "execution_count": 67,
   "id": "ee89cd43",
   "metadata": {},
   "outputs": [
    {
     "name": "stdout",
     "output_type": "stream",
     "text": [
      "Eksik Veri Doldurma İşlemi:\n",
      "İşlem öncesi eksik veri sayısı: 2706\n",
      "  Cinsiyet: 169 eksik değer mod (Kadın) ile dolduruldu\n",
      "  KanGrubu: 675 eksik değer mod (0 Rh+) ile dolduruldu\n",
      "  KronikHastalik: 611 eksik değer mod (Myastenia gravis) ile dolduruldu\n",
      "  Bolum: 11 eksik değer mod (Fiziksel Tıp Ve Rehabilitasyon,Solunum Merkezi) ile dolduruldu\n",
      "  Alerji: 944 eksik değer mod (Polen) ile dolduruldu\n",
      "  Tanilar: 75 eksik değer mod (DORSALJİ, DİĞER, LUMBOSAKRAL BÖLGE) ile dolduruldu\n",
      "  UygulamaYerleri: 221 eksik değer mod (Bel) ile dolduruldu\n",
      "\n",
      "İşlem sonrası eksik veri sayısı: 0\n",
      "Eksik veri doldurma işlemi tamamlandı!\n"
     ]
    }
   ],
   "source": [
    "# Orijinal veriyi kopyalama (güvenlik için)\n",
    "df_processed = df.copy()\n",
    "\n",
    "print('Eksik Veri Doldurma İşlemi:')\n",
    "print(f'İşlem öncesi eksik veri sayısı: {df_processed.isnull().sum().sum()}')\n",
    "\n",
    "# Numerik sütunlardaki eksik değerleri ortalama ile doldurma\n",
    "for col in numeric_columns:\n",
    "    if df_processed[col].isnull().sum() > 0:\n",
    "        mean_value = df_processed[col].mean()\n",
    "        missing_count = df_processed[col].isnull().sum()\n",
    "        df_processed[col].fillna(mean_value, inplace=True)\n",
    "        print(f'  {col}: {missing_count} eksik değer ortalama ({mean_value:.2f}) ile dolduruldu')\n",
    "\n",
    "# Kategorik sütunlardaki eksik değerleri mod (en sık görülen değer) ile doldurma\n",
    "for col in categorical_columns:\n",
    "    if df_processed[col].isnull().sum() > 0:\n",
    "        mode_value = df_processed[col].mode()[0] if not df_processed[col].mode().empty else 'Bilinmiyor'\n",
    "        missing_count = df_processed[col].isnull().sum()\n",
    "        df_processed[col].fillna(mode_value, inplace=True)\n",
    "        print(f'  {col}: {missing_count} eksik değer mod ({mode_value}) ile dolduruldu')\n",
    "\n",
    "print(f'\\nİşlem sonrası eksik veri sayısı: {df_processed.isnull().sum().sum()}')\n",
    "print('Eksik veri doldurma işlemi tamamlandı!')"
   ]
  },
  {
   "cell_type": "markdown",
   "id": "53b48ee2",
   "metadata": {},
   "source": [
    "## 9. Kategorik Veri Encoding"
   ]
  },
  {
   "cell_type": "code",
   "execution_count": 68,
   "id": "189def5a",
   "metadata": {},
   "outputs": [
    {
     "name": "stdout",
     "output_type": "stream",
     "text": [
      "Kategorik Veri Encoding Stratejisi:\n",
      "\n",
      "One-Hot Encoding uygulanacak sütunlar (5): ['Cinsiyet', 'KanGrubu', 'Uyruk', 'Bolum', 'UygulamaSuresi']\n",
      "Label Encoding uygulanacak sütunlar (5): ['KronikHastalik', 'Alerji', 'Tanilar', 'TedaviAdi', 'UygulamaYerleri']\n"
     ]
    }
   ],
   "source": [
    "# Encoding stratejisi belirleme\n",
    "print('Kategorik Veri Encoding Stratejisi:')\n",
    "\n",
    "# Düşük kardinaliteli sütunlar için One-Hot Encoding\n",
    "# Yüksek kardinaliteli sütunlar için Label Encoding\n",
    "\n",
    "low_cardinality_cols = []\n",
    "high_cardinality_cols = []\n",
    "\n",
    "for col in categorical_columns:\n",
    "    unique_count = df_processed[col].nunique()\n",
    "    if unique_count <= 10:  # 10 veya daha az benzersiz değer\n",
    "        low_cardinality_cols.append(col)\n",
    "    else:\n",
    "        high_cardinality_cols.append(col)\n",
    "\n",
    "print(f'\\nOne-Hot Encoding uygulanacak sütunlar ({len(low_cardinality_cols)}): {low_cardinality_cols}')\n",
    "print(f'Label Encoding uygulanacak sütunlar ({len(high_cardinality_cols)}): {high_cardinality_cols}')"
   ]
  },
  {
   "cell_type": "code",
   "execution_count": 70,
   "id": "35ea003f",
   "metadata": {},
   "outputs": [
    {
     "name": "stdout",
     "output_type": "stream",
     "text": [
      "KronikHastalik -> KronikHastalik_encoded (Label Encoding)\n",
      "  Benzersiz değer sayısı: 220\n",
      "  Örnek mapping: {'Aritmi': np.int64(0), 'Aritmi, Astım, Becker Musküler Distrofisi': np.int64(1), 'Aritmi, Astım, Duchenne Musküler Distrofisi': np.int64(2), 'Aritmi, Astım, Fascioscapulohumeral Distrofi, Diyabet': np.int64(3), 'Aritmi, Becker Musküler Distrofisi, Duchenne Musküler Distrofisi': np.int64(4)}\n",
      "\n",
      "Alerji -> Alerji_encoded (Label Encoding)\n",
      "  Benzersiz değer sayısı: 38\n",
      "  Örnek mapping: {'ARVELES,CORASPIN': np.int64(0), 'GRIPIN': np.int64(1), 'GRİPİN': np.int64(2), 'NOVALGIN': np.int64(3), 'NOVALGIN,Novalgin': np.int64(4)}\n",
      "\n",
      "Tanilar -> Tanilar_encoded (Label Encoding)\n",
      "  Benzersiz değer sayısı: 367\n",
      "  Örnek mapping: {\"'DORSALJİ, DİĞER, LUMBOSAKRAL BÖLGE,Lateral epikondilit\": np.int64(0), 'ARTİKÜLER KIKIRDAK DİĞER BOZUKLUKLARI, OMUZ BÖLGESİ,Omuzun darbe sendromu': np.int64(1), 'Algonörodistrofi': np.int64(2), 'Algonörodistrofi,Ayak kırığı, ayak bileği hariç': np.int64(3), 'Algonörodistrofi,\\xa0Ayak kırığı, ayak bileği hariç\\xa0': np.int64(4)}\n",
      "\n",
      "TedaviAdi -> TedaviAdi_encoded (Label Encoding)\n",
      "  Benzersiz değer sayısı: 244\n",
      "  Örnek mapping: {'1. Parmak CMC eklem ağrısı': np.int64(0), '1. parmak bağ ve volar plak yaralanması': np.int64(1), '5. metatars fissürü+bağ lezyonu': np.int64(2), 'Aksiller web sendromu+kontraktür': np.int64(3), 'Algonörodistrofi Sol Ayak': np.int64(4)}\n",
      "\n",
      "UygulamaYerleri -> UygulamaYerleri_encoded (Label Encoding)\n",
      "  Benzersiz değer sayısı: 37\n",
      "  Örnek mapping: {'Ayak Bileği': np.int64(0), 'Bel': np.int64(1), 'Bel,Tüm Vücut Bölgesi': np.int64(2), 'Boyun': np.int64(3), 'Boyun,Bel': np.int64(4)}\n",
      "\n",
      "One-Hot Encoding uygulandı: ['Cinsiyet', 'KanGrubu', 'Uyruk', 'Bolum', 'UygulamaSuresi']\n",
      "Yeni sütun sayısı: 48 (önceki: 18)\n",
      "Kaldırılacak sütunlar: ['KronikHastalik', 'Alerji', 'Tanilar', 'TedaviAdi', 'UygulamaYerleri']\n",
      "Mevcut sütunlar: ['HastaNo', 'Yas', 'KronikHastalik', 'Alerji', 'Tanilar', 'TedaviAdi', 'TedaviSuresi', 'UygulamaYerleri', 'KronikHastalik_encoded', 'Alerji_encoded', 'Tanilar_encoded', 'TedaviAdi_encoded', 'UygulamaYerleri_encoded', 'Cinsiyet_Erkek', 'Cinsiyet_Kadın', 'KanGrubu_0 Rh+', 'KanGrubu_0 Rh-', 'KanGrubu_A Rh+', 'KanGrubu_A Rh-', 'KanGrubu_AB Rh+', 'KanGrubu_AB Rh-', 'KanGrubu_B Rh+', 'KanGrubu_B Rh-', 'Uyruk_Arnavutluk', 'Uyruk_Azerbaycan', 'Uyruk_Libya', 'Uyruk_Tokelau', 'Uyruk_Türkiye', 'Bolum_Fiziksel Tıp Ve Rehabilitasyon,Solunum Merkezi', 'Bolum_Genel Cerrahi', 'Bolum_Göğüs Hastalıkları', 'Bolum_Kalp Ve Damar Cerrahisi', 'Bolum_Kardiyoloji', 'Bolum_Laboratuar', 'Bolum_Nöroloji', 'Bolum_Ortopedi Ve Travmatoloji', 'Bolum_Tıbbi Onkoloji', 'Bolum_İç Hastalıkları', 'UygulamaSuresi_10 Dakika', 'UygulamaSuresi_15 Dakika', 'UygulamaSuresi_20 Dakika', 'UygulamaSuresi_25 Dakika', 'UygulamaSuresi_3 Dakika', 'UygulamaSuresi_30 Dakika', 'UygulamaSuresi_40 Dakika', 'UygulamaSuresi_45 Dakika', 'UygulamaSuresi_5 Dakika', 'UygulamaSuresi_8 Dakika']\n",
      "Kaldırılan sütunlar: ['KronikHastalik', 'Alerji', 'Tanilar', 'TedaviAdi', 'UygulamaYerleri']\n",
      "\n",
      "Final veri boyutu: (2235, 43)\n"
     ]
    }
   ],
   "source": [
    "# Label Encoding uygulama\n",
    "label_encoders = {}\n",
    "\n",
    "for col in high_cardinality_cols:\n",
    "    le = LabelEncoder()\n",
    "    df_processed[f'{col}_encoded'] = le.fit_transform(df_processed[col])\n",
    "    label_encoders[col] = le\n",
    "    print(f'{col} -> {col}_encoded (Label Encoding)')\n",
    "    print(f'  Benzersiz değer sayısı: {df_processed[col].nunique()}')\n",
    "    print(f'  Örnek mapping: {dict(zip(le.classes_[:5], le.transform(le.classes_[:5])))}')  # İlk 5 değer\n",
    "    print()\n",
    "\n",
    "# One-Hot Encoding uygulama\n",
    "if low_cardinality_cols:\n",
    "    df_encoded = pd.get_dummies(df_processed, columns=low_cardinality_cols, prefix=low_cardinality_cols)\n",
    "    print(f'One-Hot Encoding uygulandı: {low_cardinality_cols}')\n",
    "    print(f'Yeni sütun sayısı: {df_encoded.shape[1]} (önceki: {df_processed.shape[1]})')\n",
    "else:\n",
    "    df_encoded = df_processed.copy()\n",
    "    print('One-Hot Encoding uygulanacak sütun bulunamadı.')\n",
    "\n",
    "\n",
    "# Mevcut sütunları kontrol et ve sadece var olanları kaldır\n",
    "existing_categorical_columns = [col for col in categorical_columns if col in df_encoded.columns]\n",
    "columns_to_drop = existing_categorical_columns\n",
    "\n",
    "print(f\"Kaldırılacak sütunlar: {columns_to_drop}\")\n",
    "print(f\"Mevcut sütunlar: {df_encoded.columns.tolist()}\")\n",
    "\n",
    "if columns_to_drop:\n",
    "    df_final = df_encoded.drop(columns=columns_to_drop)\n",
    "    print(f\"Kaldırılan sütunlar: {columns_to_drop}\")\n",
    "else:\n",
    "    df_final = df_encoded.copy()\n",
    "    print(\"Kaldırılacak sütun bulunamadı.\")\n",
    "\n",
    "print(f\"\\nFinal veri boyutu: {df_final.shape}\")"
   ]
  },
  {
   "cell_type": "code",
   "execution_count": 71,
   "id": "0e73252b",
   "metadata": {},
   "outputs": [
    {
     "name": "stdout",
     "output_type": "stream",
     "text": [
      "Final Dataset Bilgileri:\n",
      "Boyut: (2235, 43)\n",
      "Sütunlar: ['HastaNo', 'Yas', 'TedaviSuresi', 'KronikHastalik_encoded', 'Alerji_encoded', 'Tanilar_encoded', 'TedaviAdi_encoded', 'UygulamaYerleri_encoded', 'Cinsiyet_Erkek', 'Cinsiyet_Kadın', 'KanGrubu_0 Rh+', 'KanGrubu_0 Rh-', 'KanGrubu_A Rh+', 'KanGrubu_A Rh-', 'KanGrubu_AB Rh+', 'KanGrubu_AB Rh-', 'KanGrubu_B Rh+', 'KanGrubu_B Rh-', 'Uyruk_Arnavutluk', 'Uyruk_Azerbaycan', 'Uyruk_Libya', 'Uyruk_Tokelau', 'Uyruk_Türkiye', 'Bolum_Fiziksel Tıp Ve Rehabilitasyon,Solunum Merkezi', 'Bolum_Genel Cerrahi', 'Bolum_Göğüs Hastalıkları', 'Bolum_Kalp Ve Damar Cerrahisi', 'Bolum_Kardiyoloji', 'Bolum_Laboratuar', 'Bolum_Nöroloji', 'Bolum_Ortopedi Ve Travmatoloji', 'Bolum_Tıbbi Onkoloji', 'Bolum_İç Hastalıkları', 'UygulamaSuresi_10 Dakika', 'UygulamaSuresi_15 Dakika', 'UygulamaSuresi_20 Dakika', 'UygulamaSuresi_25 Dakika', 'UygulamaSuresi_3 Dakika', 'UygulamaSuresi_30 Dakika', 'UygulamaSuresi_40 Dakika', 'UygulamaSuresi_45 Dakika', 'UygulamaSuresi_5 Dakika', 'UygulamaSuresi_8 Dakika']\n",
      "\n",
      "Veri tipleri:\n",
      "HastaNo                                                   int64\n",
      "Yas                                                       int64\n",
      "TedaviSuresi                                            float64\n",
      "KronikHastalik_encoded                                    int64\n",
      "Alerji_encoded                                            int64\n",
      "Tanilar_encoded                                           int64\n",
      "TedaviAdi_encoded                                         int64\n",
      "UygulamaYerleri_encoded                                   int64\n",
      "Cinsiyet_Erkek                                             bool\n",
      "Cinsiyet_Kadın                                             bool\n",
      "KanGrubu_0 Rh+                                             bool\n",
      "KanGrubu_0 Rh-                                             bool\n",
      "KanGrubu_A Rh+                                             bool\n",
      "KanGrubu_A Rh-                                             bool\n",
      "KanGrubu_AB Rh+                                            bool\n",
      "KanGrubu_AB Rh-                                            bool\n",
      "KanGrubu_B Rh+                                             bool\n",
      "KanGrubu_B Rh-                                             bool\n",
      "Uyruk_Arnavutluk                                           bool\n",
      "Uyruk_Azerbaycan                                           bool\n",
      "Uyruk_Libya                                                bool\n",
      "Uyruk_Tokelau                                              bool\n",
      "Uyruk_Türkiye                                              bool\n",
      "Bolum_Fiziksel Tıp Ve Rehabilitasyon,Solunum Merkezi       bool\n",
      "Bolum_Genel Cerrahi                                        bool\n",
      "Bolum_Göğüs Hastalıkları                                   bool\n",
      "Bolum_Kalp Ve Damar Cerrahisi                              bool\n",
      "Bolum_Kardiyoloji                                          bool\n",
      "Bolum_Laboratuar                                           bool\n",
      "Bolum_Nöroloji                                             bool\n",
      "Bolum_Ortopedi Ve Travmatoloji                             bool\n",
      "Bolum_Tıbbi Onkoloji                                       bool\n",
      "Bolum_İç Hastalıkları                                      bool\n",
      "UygulamaSuresi_10 Dakika                                   bool\n",
      "UygulamaSuresi_15 Dakika                                   bool\n",
      "UygulamaSuresi_20 Dakika                                   bool\n",
      "UygulamaSuresi_25 Dakika                                   bool\n",
      "UygulamaSuresi_3 Dakika                                    bool\n",
      "UygulamaSuresi_30 Dakika                                   bool\n",
      "UygulamaSuresi_40 Dakika                                   bool\n",
      "UygulamaSuresi_45 Dakika                                   bool\n",
      "UygulamaSuresi_5 Dakika                                    bool\n",
      "UygulamaSuresi_8 Dakika                                    bool\n",
      "dtype: object\n",
      "\n",
      "Eksik veri kontrolü: 0 (olmalı: 0)\n"
     ]
    }
   ],
   "source": [
    "# Final dataset bilgileri\n",
    "print('Final Dataset Bilgileri:')\n",
    "print(f'Boyut: {df_final.shape}')\n",
    "print(f'Sütunlar: {df_final.columns.tolist()}')\n",
    "print(f'\\nVeri tipleri:')\n",
    "print(df_final.dtypes)\n",
    "print(f'\\nEksik veri kontrolü: {df_final.isnull().sum().sum()} (olmalı: 0)')"
   ]
  },
  {
   "cell_type": "markdown",
   "id": "178622a5",
   "metadata": {},
   "source": [
    "## 10. Veri Normalizasyonu ve Standartlaştırma"
   ]
  },
  {
   "cell_type": "code",
   "execution_count": 72,
   "id": "9733ff9b",
   "metadata": {},
   "outputs": [
    {
     "name": "stdout",
     "output_type": "stream",
     "text": [
      "Standartlaştırılacak numerik özellikler: ['HastaNo', 'Yas', 'KronikHastalik_encoded', 'Alerji_encoded', 'Tanilar_encoded', 'TedaviAdi_encoded', 'UygulamaYerleri_encoded']\n",
      "Hedef değişken: TedaviSuresi\n",
      "\n",
      "Standartlaştırma tamamlandı!\n",
      "\n",
      "Standartlaştırma Öncesi vs Sonrası:\n",
      "\n",
      "HastaNo:\n",
      "  Öncesi - Ortalama: 145333.10, Std: 115.21\n",
      "  Sonrası - Ortalama: 0.00, Std: 1.00\n",
      "\n",
      "Yas:\n",
      "  Öncesi - Ortalama: 47.33, Std: 15.21\n",
      "  Sonrası - Ortalama: -0.00, Std: 1.00\n",
      "\n",
      "KronikHastalik_encoded:\n",
      "  Öncesi - Ortalama: 130.30, Std: 62.07\n",
      "  Sonrası - Ortalama: 0.00, Std: 1.00\n"
     ]
    }
   ],
   "source": [
    "# Numerik sütunları belirleme (hedef değişken hariç)\n",
    "target_col = 'TedaviSuresi'\n",
    "numeric_features = [col for col in df_final.columns if df_final[col].dtype in ['int64', 'float64'] and col != target_col]\n",
    "\n",
    "print(f'Standartlaştırılacak numerik özellikler: {numeric_features}')\n",
    "print(f'Hedef değişken: {target_col}')\n",
    "\n",
    "# StandardScaler ile standartlaştırma\n",
    "scaler = StandardScaler()\n",
    "df_scaled = df_final.copy()\n",
    "\n",
    "if numeric_features:\n",
    "    df_scaled[numeric_features] = scaler.fit_transform(df_final[numeric_features])\n",
    "    print('\\nStandartlaştırma tamamlandı!')\n",
    "    \n",
    "    # Standartlaştırma öncesi ve sonrası karşılaştırma\n",
    "    print('\\nStandartlaştırma Öncesi vs Sonrası:')\n",
    "    for col in numeric_features[:3]:  # İlk 3 sütun için örnek\n",
    "        print(f'\\n{col}:')\n",
    "        print(f'  Öncesi - Ortalama: {df_final[col].mean():.2f}, Std: {df_final[col].std():.2f}')\n",
    "        print(f'  Sonrası - Ortalama: {df_scaled[col].mean():.2f}, Std: {df_scaled[col].std():.2f}')\n",
    "else:\n",
    "    print('Standartlaştırılacak numerik özellik bulunamadı.')"
   ]
  },
  {
   "cell_type": "markdown",
   "id": "4e6792c0",
   "metadata": {},
   "source": [
    "## 11. Veri Karıştırma ve Train-Test Split (75-25)"
   ]
  },
  {
   "cell_type": "code",
   "execution_count": 73,
   "id": "d1b8f346",
   "metadata": {},
   "outputs": [
    {
     "name": "stdout",
     "output_type": "stream",
     "text": [
      "Özellik matrisi (X) boyutu: (2235, 42)\n",
      "Hedef değişken (y) boyutu: (2235,)\n",
      "\n",
      "Özellik sütunları: ['HastaNo', 'Yas', 'KronikHastalik_encoded', 'Alerji_encoded', 'Tanilar_encoded', 'TedaviAdi_encoded', 'UygulamaYerleri_encoded', 'Cinsiyet_Erkek', 'Cinsiyet_Kadın', 'KanGrubu_0 Rh+', 'KanGrubu_0 Rh-', 'KanGrubu_A Rh+', 'KanGrubu_A Rh-', 'KanGrubu_AB Rh+', 'KanGrubu_AB Rh-', 'KanGrubu_B Rh+', 'KanGrubu_B Rh-', 'Uyruk_Arnavutluk', 'Uyruk_Azerbaycan', 'Uyruk_Libya', 'Uyruk_Tokelau', 'Uyruk_Türkiye', 'Bolum_Fiziksel Tıp Ve Rehabilitasyon,Solunum Merkezi', 'Bolum_Genel Cerrahi', 'Bolum_Göğüs Hastalıkları', 'Bolum_Kalp Ve Damar Cerrahisi', 'Bolum_Kardiyoloji', 'Bolum_Laboratuar', 'Bolum_Nöroloji', 'Bolum_Ortopedi Ve Travmatoloji', 'Bolum_Tıbbi Onkoloji', 'Bolum_İç Hastalıkları', 'UygulamaSuresi_10 Dakika', 'UygulamaSuresi_15 Dakika', 'UygulamaSuresi_20 Dakika', 'UygulamaSuresi_25 Dakika', 'UygulamaSuresi_3 Dakika', 'UygulamaSuresi_30 Dakika', 'UygulamaSuresi_40 Dakika', 'UygulamaSuresi_45 Dakika', 'UygulamaSuresi_5 Dakika', 'UygulamaSuresi_8 Dakika']\n",
      "\n",
      "Train-Test Split Sonuçları:\n",
      "X_train boyutu: (1676, 42) (75.0%)\n",
      "X_test boyutu: (559, 42) (25.0%)\n",
      "y_train boyutu: (1676,)\n",
      "y_test boyutu: (559,)\n"
     ]
    }
   ],
   "source": [
    "# Özellikler ve hedef değişken ayrımı\n",
    "X = df_scaled.drop(columns=[target_col])\n",
    "y = df_scaled[target_col]\n",
    "\n",
    "print(f'Özellik matrisi (X) boyutu: {X.shape}')\n",
    "print(f'Hedef değişken (y) boyutu: {y.shape}')\n",
    "print(f'\\nÖzellik sütunları: {X.columns.tolist()}')\n",
    "\n",
    "# Train-Test split (75% train, 25% test)\n",
    "X_train, X_test, y_train, y_test = train_test_split(\n",
    "    X, y, \n",
    "    test_size=0.25, \n",
    "    random_state=42, \n",
    "    shuffle=True\n",
    ")\n",
    "\n",
    "print(f'\\nTrain-Test Split Sonuçları:')\n",
    "print(f'X_train boyutu: {X_train.shape} ({X_train.shape[0]/len(X)*100:.1f}%)')\n",
    "print(f'X_test boyutu: {X_test.shape} ({X_test.shape[0]/len(X)*100:.1f}%)')\n",
    "print(f'y_train boyutu: {y_train.shape}')\n",
    "print(f'y_test boyutu: {y_test.shape}')"
   ]
  },
  {
   "cell_type": "code",
   "execution_count": 74,
   "id": "58288bc6",
   "metadata": {},
   "outputs": [
    {
     "name": "stdout",
     "output_type": "stream",
     "text": [
      "Hedef Değişken Dağılım Karşılaştırması:\n",
      "\n",
      "Train seti - TedaviSuresi:\n",
      "  Ortalama: 14.52\n",
      "  Medyan: 15.00\n",
      "  Std: 3.66\n",
      "  Min: 1.00\n",
      "  Max: 37.00\n",
      "\n",
      "Test seti - TedaviSuresi:\n",
      "  Ortalama: 14.72\n",
      "  Medyan: 15.00\n",
      "  Std: 3.90\n",
      "  Min: 1.00\n",
      "  Max: 37.00\n"
     ]
    },
    {
     "data": {
      "image/png": "[encoded data removed]",
      "text/plain": [
       "<Figure size 1500x600 with 2 Axes>"
      ]
     },
     "metadata": {},
     "output_type": "display_data"
    }
   ],
   "source": [
    "# Hedef değişkenin train ve test setlerindeki dağılımını kontrol etme\n",
    "print('Hedef Değişken Dağılım Karşılaştırması:')\n",
    "print(f'\\nTrain seti - {target_col}:')\n",
    "print(f'  Ortalama: {y_train.mean():.2f}')\n",
    "print(f'  Medyan: {y_train.median():.2f}')\n",
    "print(f'  Std: {y_train.std():.2f}')\n",
    "print(f'  Min: {y_train.min():.2f}')\n",
    "print(f'  Max: {y_train.max():.2f}')\n",
    "\n",
    "print(f'\\nTest seti - {target_col}:')\n",
    "print(f'  Ortalama: {y_test.mean():.2f}')\n",
    "print(f'  Medyan: {y_test.median():.2f}')\n",
    "print(f'  Std: {y_test.std():.2f}')\n",
    "print(f'  Min: {y_test.min():.2f}')\n",
    "print(f'  Max: {y_test.max():.2f}')\n",
    "\n",
    "# Train ve test setlerinin dağılımını görselleştirme\n",
    "fig, axes = plt.subplots(1, 2, figsize=(15, 6))\n",
    "\n",
    "# Train seti histogram\n",
    "axes[0].hist(y_train, bins=30, alpha=0.7, color='blue', edgecolor='black')\n",
    "axes[0].set_title(f'Train Seti - {target_col} Dağılımı')\n",
    "axes[0].set_xlabel(target_col)\n",
    "axes[0].set_ylabel('Frekans')\n",
    "\n",
    "# Test seti histogram\n",
    "axes[1].hist(y_test, bins=30, alpha=0.7, color='red', edgecolor='black')\n",
    "axes[1].set_title(f'Test Seti - {target_col} Dağılımı')\n",
    "axes[1].set_xlabel(target_col)\n",
    "axes[1].set_ylabel('Frekans')\n",
    "\n",
    "plt.tight_layout()\n",
    "plt.show()"
   ]
  },
  {
   "cell_type": "markdown",
   "id": "48410008",
   "metadata": {},
   "source": [
    "## 12. Final Veri Setinin Kayıt Edilmesi"
   ]
  },
  {
   "cell_type": "code",
   "execution_count": 75,
   "id": "55cf2078",
   "metadata": {},
   "outputs": [
    {
     "name": "stdout",
     "output_type": "stream",
     "text": [
      "Veri setleri başarıyla kaydedildi:\n",
      "  - processed_train_data.csv (Train seti)\n",
      "  - processed_test_data.csv (Test seti)\n",
      "  - processed_full_data.csv (Tam veri seti)\n",
      "  - scaler.pkl (StandardScaler)\n",
      "  - label_encoders.pkl (Label Encoders)\n"
     ]
    }
   ],
   "source": [
    "# İşlenmiş veri setini kaydetme\n",
    "# Train ve test setlerini ayrı ayrı kaydetme\n",
    "train_data = pd.concat([X_train, y_train], axis=1)\n",
    "test_data = pd.concat([X_test, y_test], axis=1)\n",
    "\n",
    "# Dosyaları kaydetme\n",
    "train_data.to_csv('processed_train_data.csv', index=False)\n",
    "test_data.to_csv('processed_test_data.csv', index=False)\n",
    "df_scaled.to_csv('processed_full_data.csv', index=False)\n",
    "\n",
    "print('Veri setleri başarıyla kaydedildi:')\n",
    "print('  - processed_train_data.csv (Train seti)')\n",
    "print('  - processed_test_data.csv (Test seti)')\n",
    "print('  - processed_full_data.csv (Tam veri seti)')\n",
    "\n",
    "# Preprocessing pipeline'ının kaydedilmesi (gelecekte kullanım için)\n",
    "import pickle\n",
    "\n",
    "# Scaler'ı kaydetme\n",
    "if numeric_features:\n",
    "    with open('scaler.pkl', 'wb') as f:\n",
    "        pickle.dump(scaler, f)\n",
    "    print('  - scaler.pkl (StandardScaler)')\n",
    "\n",
    "# Label encoder'ları kaydetme\n",
    "if label_encoders:\n",
    "    with open('label_encoders.pkl', 'wb') as f:\n",
    "        pickle.dump(label_encoders, f)\n",
    "    print('  - label_encoders.pkl (Label Encoders)')\n",
    "    "
   ]
  },
  {
   "cell_type": "markdown",
   "id": "0f9e8f62",
   "metadata": {},
   "source": [
    "## 13. EDA ve Preprocessing Özeti"
   ]
  },
  {
   "cell_type": "code",
   "execution_count": 76,
   "id": "e1b2f1ec",
   "metadata": {},
   "outputs": [
    {
     "name": "stdout",
     "output_type": "stream",
     "text": [
      "============================================================\n",
      "EDA VE PREPROCESSING SÜRECİ ÖZETI\n",
      "============================================================\n",
      "\n",
      "1. BAŞLANGIÇ VERİ SETİ:\n",
      "   - Boyut: (2235, 13)\n",
      "   - Numerik sütun sayısı: 3\n",
      "   - Kategorik sütun sayısı: 10\n",
      "   - Toplam eksik veri: 2706\n",
      "\n",
      "2. VERİ TEMİZLEME:\n",
      "   - Eksik veri doldurma: Numerik -> Ortalama, Kategorik -> Mod\n",
      "   - Gereksiz sütun kaldırma: ID sütunları tespit edildi\n",
      "\n",
      "3. ENCODING:\n",
      "   - One-Hot Encoding: 5 sütun\n",
      "   - Label Encoding: 5 sütun\n",
      "\n",
      "4. NORMALİZASYON:\n",
      "   - StandardScaler uygulandı: 7 numerik özellik\n",
      "\n",
      "5. TRAIN-TEST SPLIT:\n",
      "   - Train: %75 (1676 örnek)\n",
      "   - Test: %25 (559 örnek)\n",
      "   - Özellik sayısı: 42\n",
      "   - Hedef değişken: TedaviSuresi\n",
      "\n",
      "6. ÇIKTI DOSYALARI:\n",
      "   - processed_train_data.csv\n",
      "   - processed_test_data.csv\n",
      "   - processed_full_data.csv\n",
      "   - scaler.pkl\n",
      "   - label_encoders.pkl\n",
      "\n",
      "7. SONUÇ:\n",
      "   ✓ Veri seti model eğitimi için hazır!\n",
      "   ✓ Eksik veri kalmadı: True\n",
      "   ✓ Tüm kategorik veriler encode edildi\n",
      "   ✓ Numerik veriler standartlaştırıldı\n",
      "   ✓ Train-test ayrımı yapıldı\n",
      "\n",
      "============================================================\n",
      "İŞLEM BAŞARIYLA TAMAMLANDI!\n",
      "============================================================\n"
     ]
    }
   ],
   "source": [
    "print('=' * 60)\n",
    "print('EDA VE PREPROCESSING SÜRECİ ÖZETI')\n",
    "print('=' * 60)\n",
    "\n",
    "print(f'\\n1. BAŞLANGIÇ VERİ SETİ:')\n",
    "print(f'   - Boyut: {df.shape}')\n",
    "print(f'   - Numerik sütun sayısı: {len(numeric_columns)}')\n",
    "print(f'   - Kategorik sütun sayısı: {len(categorical_columns)}')\n",
    "print(f'   - Toplam eksik veri: {df.isnull().sum().sum()}')\n",
    "\n",
    "print(f'\\n2. VERİ TEMİZLEME:')\n",
    "print(f'   - Eksik veri doldurma: Numerik -> Ortalama, Kategorik -> Mod')\n",
    "print(f'   - Gereksiz sütun kaldırma: ID sütunları tespit edildi')\n",
    "\n",
    "print(f'\\n3. ENCODING:')\n",
    "print(f'   - One-Hot Encoding: {len(low_cardinality_cols)} sütun')\n",
    "print(f'   - Label Encoding: {len(high_cardinality_cols)} sütun')\n",
    "\n",
    "print(f'\\n4. NORMALİZASYON:')\n",
    "print(f'   - StandardScaler uygulandı: {len(numeric_features)} numerik özellik')\n",
    "\n",
    "print(f'\\n5. TRAIN-TEST SPLIT:')\n",
    "print(f'   - Train: %75 ({X_train.shape[0]} örnek)')\n",
    "print(f'   - Test: %25 ({X_test.shape[0]} örnek)')\n",
    "print(f'   - Özellik sayısı: {X.shape[1]}')\n",
    "print(f'   - Hedef değişken: {target_col}')\n",
    "\n",
    "print(f'\\n6. ÇIKTI DOSYALARI:')\n",
    "print(f'   - processed_train_data.csv')\n",
    "print(f'   - processed_test_data.csv')\n",
    "print(f'   - processed_full_data.csv')\n",
    "print(f'   - scaler.pkl')\n",
    "print(f'   - label_encoders.pkl')\n",
    "\n",
    "print(f'\\n7. SONUÇ:')\n",
    "print(f'   ✓ Veri seti model eğitimi için hazır!')\n",
    "print(f'   ✓ Eksik veri kalmadı: {df_final.isnull().sum().sum() == 0}')\n",
    "print(f'   ✓ Tüm kategorik veriler encode edildi')\n",
    "print(f'   ✓ Numerik veriler standartlaştırıldı')\n",
    "print(f'   ✓ Train-test ayrımı yapıldı')\n",
    "\n",
    "print('\\n' + '=' * 60)\n",
    "print('İŞLEM BAŞARIYLA TAMAMLANDI!')\n",
    "print('=' * 60)"
   ]
  },
  {
   "cell_type": "code",
   "execution_count": null,
   "id": "2065fc7e",
   "metadata": {},
   "outputs": [],
   "source": []
  }
 ],
 "metadata": {
  "kernelspec": {
   "display_name": "llm",
   "language": "python",
   "name": "python3"
  },
  "language_info": {
   "codemirror_mode": {
    "name": "ipython",
    "version": 3
   },
   "file_extension": ".py",
   "mimetype": "text/x-python",
   "name": "python",
   "nbconvert_exporter": "python",
   "pygments_lexer": "ipython3",
   "version": "3.13.3"
  }
 },
 "nbformat": 4,
 "nbformat_minor": 5
}
